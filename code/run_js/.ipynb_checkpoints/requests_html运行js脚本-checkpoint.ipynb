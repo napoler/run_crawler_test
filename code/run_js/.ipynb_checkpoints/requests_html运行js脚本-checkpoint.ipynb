{
 "cells": [
  {
   "cell_type": "markdown",
   "metadata": {},
   "source": [
    "# 使用requests_html来运行js脚本\n",
    "文档 https://cncert.github.io/requests-html-doc-cn/#/\n",
    "依赖于chromedrive,自动化配置,比较高效率"
   ]
  },
  {
   "cell_type": "code",
   "execution_count": 11,
   "metadata": {},
   "outputs": [],
   "source": [
    "# !source ../../../bin/activate"
   ]
  },
  {
   "cell_type": "code",
   "execution_count": 12,
   "metadata": {},
   "outputs": [
    {
     "name": "stdout",
     "output_type": "stream",
     "text": [
      "Package        Version\n",
      "-------------- ---------\n",
      "appdirs        1.4.4\n",
      "beautifulsoup4 4.9.1\n",
      "bs4            0.0.1\n",
      "certifi        2020.6.20\n",
      "chardet        3.0.4\n",
      "cssselect      1.1.0\n",
      "fake-useragent 0.1.11\n",
      "idna           2.10\n",
      "lxml           4.5.2\n",
      "parse          1.15.0\n",
      "pip            20.1.1\n",
      "pyee           7.0.2\n",
      "pyppeteer      0.2.2\n",
      "pyquery        1.4.1\n",
      "requests       2.24.0\n",
      "requests-html  0.10.0\n",
      "setuptools     49.2.0\n",
      "six            1.15.0\n",
      "soupsieve      2.0.1\n",
      "tqdm           4.48.0\n",
      "urllib3        1.25.10\n",
      "w3lib          1.22.0\n",
      "websockets     8.1\n",
      "wheel          0.34.2\n"
     ]
    }
   ],
   "source": [
    "!pip list"
   ]
  },
  {
   "cell_type": "markdown",
   "metadata": {},
   "source": [
    "安装模块"
   ]
  },
  {
   "cell_type": "code",
   "execution_count": 13,
   "metadata": {},
   "outputs": [
    {
     "name": "stdout",
     "output_type": "stream",
     "text": [
      "Looking in indexes: https://pypi.tuna.tsinghua.edu.cn/simple\n",
      "Requirement already satisfied: requests_html in /mnt/data/dev/github/run_crawler_test/lib/python3.6/site-packages (0.10.0)\n",
      "Requirement already satisfied: parse in /mnt/data/dev/github/run_crawler_test/lib/python3.6/site-packages (from requests_html) (1.15.0)\n",
      "Requirement already satisfied: bs4 in /mnt/data/dev/github/run_crawler_test/lib/python3.6/site-packages (from requests_html) (0.0.1)\n",
      "Requirement already satisfied: pyquery in /mnt/data/dev/github/run_crawler_test/lib/python3.6/site-packages (from requests_html) (1.4.1)\n",
      "Requirement already satisfied: w3lib in /mnt/data/dev/github/run_crawler_test/lib/python3.6/site-packages (from requests_html) (1.22.0)\n",
      "Requirement already satisfied: fake-useragent in /mnt/data/dev/github/run_crawler_test/lib/python3.6/site-packages (from requests_html) (0.1.11)\n",
      "Requirement already satisfied: requests in /mnt/data/dev/github/run_crawler_test/lib/python3.6/site-packages (from requests_html) (2.24.0)\n",
      "Requirement already satisfied: pyppeteer>=0.0.14 in /mnt/data/dev/github/run_crawler_test/lib/python3.6/site-packages (from requests_html) (0.2.2)\n",
      "Requirement already satisfied: beautifulsoup4 in /mnt/data/dev/github/run_crawler_test/lib/python3.6/site-packages (from bs4->requests_html) (4.9.1)\n",
      "Requirement already satisfied: cssselect>0.7.9 in /mnt/data/dev/github/run_crawler_test/lib/python3.6/site-packages (from pyquery->requests_html) (1.1.0)\n",
      "Requirement already satisfied: lxml>=2.1 in /mnt/data/dev/github/run_crawler_test/lib/python3.6/site-packages (from pyquery->requests_html) (4.5.2)\n",
      "Requirement already satisfied: six>=1.4.1 in /mnt/data/dev/github/run_crawler_test/lib/python3.6/site-packages (from w3lib->requests_html) (1.15.0)\n",
      "Requirement already satisfied: idna<3,>=2.5 in /mnt/data/dev/github/run_crawler_test/lib/python3.6/site-packages (from requests->requests_html) (2.10)\n",
      "Requirement already satisfied: chardet<4,>=3.0.2 in /mnt/data/dev/github/run_crawler_test/lib/python3.6/site-packages (from requests->requests_html) (3.0.4)\n",
      "Requirement already satisfied: certifi>=2017.4.17 in /mnt/data/dev/github/run_crawler_test/lib/python3.6/site-packages (from requests->requests_html) (2020.6.20)\n",
      "Requirement already satisfied: urllib3!=1.25.0,!=1.25.1,<1.26,>=1.21.1 in /mnt/data/dev/github/run_crawler_test/lib/python3.6/site-packages (from requests->requests_html) (1.25.10)\n",
      "Requirement already satisfied: pyee<8.0.0,>=7.0.1 in /mnt/data/dev/github/run_crawler_test/lib/python3.6/site-packages (from pyppeteer>=0.0.14->requests_html) (7.0.2)\n",
      "Requirement already satisfied: appdirs<2.0.0,>=1.4.3 in /mnt/data/dev/github/run_crawler_test/lib/python3.6/site-packages (from pyppeteer>=0.0.14->requests_html) (1.4.4)\n",
      "Requirement already satisfied: tqdm<5.0.0,>=4.42.1 in /mnt/data/dev/github/run_crawler_test/lib/python3.6/site-packages (from pyppeteer>=0.0.14->requests_html) (4.48.0)\n",
      "Requirement already satisfied: websockets<9.0,>=8.1 in /mnt/data/dev/github/run_crawler_test/lib/python3.6/site-packages (from pyppeteer>=0.0.14->requests_html) (8.1)\n",
      "Requirement already satisfied: soupsieve>1.2 in /mnt/data/dev/github/run_crawler_test/lib/python3.6/site-packages (from beautifulsoup4->bs4->requests_html) (2.0.1)\n"
     ]
    }
   ],
   "source": [
    "!pip install requests_html"
   ]
  },
  {
   "cell_type": "markdown",
   "metadata": {},
   "source": [
    "引入模块"
   ]
  },
  {
   "cell_type": "code",
   "execution_count": 14,
   "metadata": {},
   "outputs": [
    {
     "ename": "ModuleNotFoundError",
     "evalue": "No module named 'requests_html'",
     "output_type": "error",
     "traceback": [
      "\u001b[0;31m---------------------------------------------------------------------------\u001b[0m",
      "\u001b[0;31mModuleNotFoundError\u001b[0m                       Traceback (most recent call last)",
      "\u001b[0;32m<ipython-input-14-e2b01ae1005f>\u001b[0m in \u001b[0;36m<module>\u001b[0;34m\u001b[0m\n\u001b[0;32m----> 1\u001b[0;31m \u001b[0;32mfrom\u001b[0m \u001b[0mrequests_html\u001b[0m \u001b[0;32mimport\u001b[0m \u001b[0mHTMLSession\u001b[0m\u001b[0;34m\u001b[0m\u001b[0;34m\u001b[0m\u001b[0m\n\u001b[0m\u001b[1;32m      2\u001b[0m \u001b[0;32mfrom\u001b[0m \u001b[0mrequests_html\u001b[0m \u001b[0;32mimport\u001b[0m \u001b[0mHTML\u001b[0m\u001b[0;34m\u001b[0m\u001b[0;34m\u001b[0m\u001b[0m\n",
      "\u001b[0;31mModuleNotFoundError\u001b[0m: No module named 'requests_html'"
     ]
    }
   ],
   "source": [
    "from requests_html import HTMLSession\n",
    "from requests_html import HTML"
   ]
  },
  {
   "cell_type": "code",
   "execution_count": null,
   "metadata": {},
   "outputs": [],
   "source": [
    "doc = \"\"\"<a href='https://httpbin.org'>\"\"\"\n",
    "html = HTML(html=doc)"
   ]
  },
  {
   "cell_type": "markdown",
   "metadata": {},
   "source": [
    "加入js"
   ]
  },
  {
   "cell_type": "code",
   "execution_count": null,
   "metadata": {},
   "outputs": [],
   "source": [
    "script = \"\"\"\n",
    "        () => {\n",
    "            return {\n",
    "                width: document.documentElement.clientWidth,\n",
    "                height: document.documentElement.clientHeight,\n",
    "                deviceScaleFactor: window.devicePixelRatio,\n",
    "            }\n",
    "        }\"\"\"\n",
    "        \n",
    "        \n",
    "val = html.render(script=script, reload=False)\n",
    "print(val)"
   ]
  }
 ],
 "metadata": {
  "kernelspec": {
   "display_name": "Python 3",
   "language": "python",
   "name": "python3"
  },
  "language_info": {
   "codemirror_mode": {
    "name": "ipython",
    "version": 3
   },
   "file_extension": ".py",
   "mimetype": "text/x-python",
   "name": "python",
   "nbconvert_exporter": "python",
   "pygments_lexer": "ipython3",
   "version": "3.6.9"
  }
 },
 "nbformat": 4,
 "nbformat_minor": 2
}
